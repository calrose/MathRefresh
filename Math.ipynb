{
  "nbformat": 4,
  "nbformat_minor": 0,
  "metadata": {
    "colab": {
      "name": "Untitled0.ipynb",
      "provenance": [],
      "authorship_tag": "ABX9TyPlx8LuvIw9tEFFfWDgOk3c",
      "include_colab_link": true
    },
    "kernelspec": {
      "name": "python3",
      "display_name": "Python 3"
    },
    "language_info": {
      "name": "python"
    }
  },
  "cells": [
    {
      "cell_type": "markdown",
      "metadata": {
        "id": "view-in-github",
        "colab_type": "text"
      },
      "source": [
        "<a href=\"https://colab.research.google.com/github/calrose/MathRefresh/blob/main/Math.ipynb\" target=\"_parent\"><img src=\"https://colab.research.google.com/assets/colab-badge.svg\" alt=\"Open In Colab\"/></a>"
      ]
    },
    {
      "cell_type": "code",
      "metadata": {
        "id": "1btaKFTpfTxy",
        "colab": {
          "base_uri": "https://localhost:8080/"
        },
        "outputId": "b06b802f-8a15-4279-b085-bcf3bfcc25da"
      },
      "source": [
        "import numpy as np\n",
        "import pandas as pd\n",
        "from scipy import stats\n",
        "import matplotlib\n",
        "\n",
        "x = np.random.rand(100)\n",
        "print(np.median(x))\n",
        "print(np.mean(x))\n",
        "print(np.std(x))\n",
        "print(stats.median_absolute_deviation(x))"
      ],
      "execution_count": 15,
      "outputs": [
        {
          "output_type": "stream",
          "name": "stdout",
          "text": [
            "0.26398024930051783\n",
            "0.3338272393671346\n"
          ]
        }
      ]
    }
  ]
}