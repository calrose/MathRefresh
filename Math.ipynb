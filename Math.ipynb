{
  "nbformat": 4,
  "nbformat_minor": 0,
  "metadata": {
    "colab": {
      "name": "Untitled0.ipynb",
      "provenance": [],
      "authorship_tag": "ABX9TyOW6yGNFVjz4sOUyVLEnHVE",
      "include_colab_link": true
    },
    "kernelspec": {
      "name": "python3",
      "display_name": "Python 3"
    },
    "language_info": {
      "name": "python"
    }
  },
  "cells": [
    {
      "cell_type": "markdown",
      "metadata": {
        "id": "view-in-github",
        "colab_type": "text"
      },
      "source": [
        "<a href=\"https://colab.research.google.com/github/calrose/MathRefresh/blob/main/Math.ipynb\" target=\"_parent\"><img src=\"https://colab.research.google.com/assets/colab-badge.svg\" alt=\"Open In Colab\"/></a>"
      ]
    },
    {
      "cell_type": "code",
      "metadata": {
        "id": "1btaKFTpfTxy",
        "colab": {
          "base_uri": "https://localhost:8080/",
          "height": 399
        },
        "outputId": "c89895be-650a-4105-9f98-de08b241b75a"
      },
      "source": [
        "import numpy as np\n",
        "import pandas as pd\n",
        "from scipy import stats\n",
        "import matplotlib\n",
        "\n",
        "x = np.random.rand(100)\n",
        "y = np.random.rand(100)\n",
        "np.log(x)\n",
        "print(np.median(x))\n",
        "print(np.mean(x))\n",
        "print(np.std(x))\n",
        "print(stats.median_absolute_deviation(x))\n",
        "print(np.correlate(x, y))\n",
        "print(np.corrcoef(x, y))\n",
        "print(matplotlib.pyplot.scatter(x, y))"
      ],
      "execution_count": 20,
      "outputs": [
        {
          "output_type": "stream",
          "name": "stdout",
          "text": [
            "0.49230712956353134\n",
            "0.4897877657836917\n",
            "0.27631308304631835\n",
            "0.32646612344558124\n",
            "[24.22259336]\n",
            "[[ 1.         -0.04980135]\n",
            " [-0.04980135  1.        ]]\n",
            "<matplotlib.collections.PathCollection object at 0x7f7c1c1ebf50>\n"
          ]
        },
        {
          "output_type": "display_data",
          "data": {
            "image/png": "[encoded data removed]",
            "text/plain": [
              "<Figure size 432x288 with 1 Axes>"
            ]
          },
          "metadata": {
            "needs_background": "light"
          }
        }
      ]
    }
  ]
}